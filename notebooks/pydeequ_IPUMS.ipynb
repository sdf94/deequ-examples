{
  "nbformat": 4,
  "nbformat_minor": 0,
  "metadata": {
    "colab": {
      "name": "pydeequ-IPUMS.ipynb",
      "provenance": [],
      "collapsed_sections": []
    },
    "kernelspec": {
      "name": "python3",
      "display_name": "Python 3"
    },
    "language_info": {
      "name": "python"
    }
  },
  "cells": [
    {
      "cell_type": "markdown",
      "source": [
        "Install everything necessary to make spark work. :)"
      ],
      "metadata": {
        "id": "r3HF8SF6u-ey"
      }
    },
    {
      "cell_type": "code",
      "execution_count": 1,
      "metadata": {
        "colab": {
          "base_uri": "https://localhost:8080/"
        },
        "id": "d9X9LEfEuuAb",
        "outputId": "86141acd-2662-4a22-dd1f-99cea9d4e8f3"
      },
      "outputs": [
        {
          "output_type": "stream",
          "name": "stdout",
          "text": [
            "Mounted at /content/drive\n"
          ]
        }
      ],
      "source": [
        "from google.colab import drive\n",
        "drive.mount('/content/drive')"
      ]
    },
    {
      "cell_type": "code",
      "source": [
        "!apt-get install openjdk-11-jdk-headless -qq > /dev/null\n",
        "!wget -q https://dlcdn.apache.org/spark/spark-3.0.3/spark-3.0.3-bin-hadoop2.7.tgz\n",
        "!tar xf spark-3.0.3-bin-hadoop2.7.tgz\n",
        "!pip install -q findspark"
      ],
      "metadata": {
        "id": "j1nVplpkvCp1"
      },
      "execution_count": 2,
      "outputs": []
    },
    {
      "cell_type": "code",
      "source": [
        "import os\n",
        "os.environ[\"JAVA_HOME\"] = \"/usr/lib/jvm/java-11-openjdk-amd64\"\n",
        "os.environ[\"SPARK_HOME\"] = \"/content/spark-3.0.3-bin-hadoop2.7\""
      ],
      "metadata": {
        "id": "QKDB-o4qvH15"
      },
      "execution_count": 3,
      "outputs": []
    },
    {
      "cell_type": "code",
      "source": [
        "import findspark\n",
        "findspark.init()"
      ],
      "metadata": {
        "id": "6-cljoAAvKbS"
      },
      "execution_count": 4,
      "outputs": []
    },
    {
      "cell_type": "code",
      "source": [
        "!pip install pydeequ"
      ],
      "metadata": {
        "colab": {
          "base_uri": "https://localhost:8080/"
        },
        "id": "3X_FMLx77SQu",
        "outputId": "afe2ec32-cfc0-45aa-a27a-a42ee78d4dc7"
      },
      "execution_count": 5,
      "outputs": [
        {
          "output_type": "stream",
          "name": "stdout",
          "text": [
            "Collecting pydeequ\n",
            "  Downloading pydeequ-1.0.1-py3-none-any.whl (36 kB)\n",
            "Requirement already satisfied: pandas>=0.23.0 in /usr/local/lib/python3.7/dist-packages (from pydeequ) (1.3.5)\n",
            "Requirement already satisfied: numpy>=1.14.1 in /usr/local/lib/python3.7/dist-packages (from pydeequ) (1.21.6)\n",
            "Requirement already satisfied: python-dateutil>=2.7.3 in /usr/local/lib/python3.7/dist-packages (from pandas>=0.23.0->pydeequ) (2.8.2)\n",
            "Requirement already satisfied: pytz>=2017.3 in /usr/local/lib/python3.7/dist-packages (from pandas>=0.23.0->pydeequ) (2022.1)\n",
            "Requirement already satisfied: six>=1.5 in /usr/local/lib/python3.7/dist-packages (from python-dateutil>=2.7.3->pandas>=0.23.0->pydeequ) (1.15.0)\n",
            "Installing collected packages: pydeequ\n",
            "Successfully installed pydeequ-1.0.1\n"
          ]
        }
      ]
    },
    {
      "cell_type": "code",
      "source": [
        "from pyspark.sql import SparkSession, Row\n",
        "import pydeequ\n",
        "\n",
        "spark = (SparkSession\n",
        "    .builder\n",
        "    .config(\"spark.jars.packages\", pydeequ.deequ_maven_coord)\n",
        "    .config(\"spark.jars.excludes\", pydeequ.f2j_maven_coord)\n",
        "    .getOrCreate())\n",
        "df = spark.read.option(\"header\",\"true\").csv('/content/drive/MyDrive/Colab Notebooks/df_30.csv')"
      ],
      "metadata": {
        "colab": {
          "base_uri": "https://localhost:8080/"
        },
        "id": "esQcjq047S_0",
        "outputId": "acd7cb1e-e056-4cc8-cf6e-463961577f49"
      },
      "execution_count": 6,
      "outputs": [
        {
          "output_type": "stream",
          "name": "stderr",
          "text": [
            "Please set env variable SPARK_VERSION\n"
          ]
        }
      ]
    },
    {
      "cell_type": "code",
      "source": [
        "df.printSchema()"
      ],
      "metadata": {
        "colab": {
          "base_uri": "https://localhost:8080/"
        },
        "id": "kUYnGTtSOveX",
        "outputId": "b6724dba-a832-4e05-aa1e-23f86c2a029b"
      },
      "execution_count": 7,
      "outputs": [
        {
          "output_type": "stream",
          "name": "stdout",
          "text": [
            "root\n",
            " |-- year: string (nullable = true)\n",
            " |-- SAMPLE: string (nullable = true)\n",
            " |-- SERIAL: string (nullable = true)\n",
            " |-- CBSERIAL: string (nullable = true)\n",
            " |-- NUMPREC: string (nullable = true)\n",
            " |-- HHWT: string (nullable = true)\n",
            " |-- HHTYPE: string (nullable = true)\n",
            " |-- CLUSTER: string (nullable = true)\n",
            " |-- REGION: string (nullable = true)\n",
            " |-- STATEFIP: string (nullable = true)\n",
            " |-- COUNTYFIP: string (nullable = true)\n",
            " |-- DENSITY: string (nullable = true)\n",
            " |-- CITY12: string (nullable = true)\n",
            " |-- CITYPOP: string (nullable = true)\n",
            " |-- STRATA: string (nullable = true)\n",
            " |-- CNTRY: string (nullable = true)\n",
            " |-- GQ: string (nullable = true)\n",
            " |-- OWNERSHP: string (nullable = true)\n",
            " |-- OWNERSHPD: string (nullable = true)\n",
            " |-- MORTGAGE: string (nullable = true)\n",
            " |-- TAXINCL: string (nullable = true)\n",
            " |-- INSINCL: string (nullable = true)\n",
            " |-- RENT: string (nullable = true)\n",
            " |-- RENTGRS: string (nullable = true)\n",
            " |-- HHINCOME: string (nullable = true)\n",
            " |-- VALUEH: string (nullable = true)\n",
            " |-- SSMC: string (nullable = true)\n",
            " |-- NFAMS: string (nullable = true)\n",
            " |-- NSUBFAM: string (nullable = true)\n",
            " |-- NCOUPLES: string (nullable = true)\n",
            " |-- NMOTHERS: string (nullable = true)\n",
            " |-- NFATHERS: string (nullable = true)\n",
            " |-- MULTGEN: string (nullable = true)\n",
            " |-- MULTGEND: string (nullable = true)\n",
            " |-- CBNSUBFAM: string (nullable = true)\n",
            " |-- PERNUM: string (nullable = true)\n",
            " |-- PERWT: string (nullable = true)\n",
            " |-- FAMUNIT: string (nullable = true)\n",
            " |-- FAMSIZE: string (nullable = true)\n",
            " |-- SUBFAM: string (nullable = true)\n",
            " |-- NCHILD: string (nullable = true)\n",
            " |-- NSIBS: string (nullable = true)\n",
            " |-- RELATE: string (nullable = true)\n",
            " |-- RELATED: string (nullable = true)\n",
            " |-- SEX: string (nullable = true)\n",
            " |-- AGE: string (nullable = true)\n",
            " |-- MARST: string (nullable = true)\n",
            " |-- BIRTHYR: string (nullable = true)\n",
            " |-- MARRNO: string (nullable = true)\n",
            " |-- MARRINYR: string (nullable = true)\n",
            " |-- YRMARR: string (nullable = true)\n",
            " |-- DIVINYR: string (nullable = true)\n",
            " |-- WIDINYR: string (nullable = true)\n",
            " |-- FERTYR: string (nullable = true)\n",
            " |-- RACE: string (nullable = true)\n",
            " |-- RACED: string (nullable = true)\n",
            " |-- BPL: string (nullable = true)\n",
            " |-- BPLD: string (nullable = true)\n",
            " |-- CITIZEN: string (nullable = true)\n",
            " |-- YRNATUR: string (nullable = true)\n",
            " |-- YRIMMIG: string (nullable = true)\n",
            " |-- YRSUSA1: string (nullable = true)\n",
            " |-- YRSUSA2: string (nullable = true)\n",
            " |-- LANGUAGE: string (nullable = true)\n",
            " |-- LANGUAGED: string (nullable = true)\n",
            " |-- SPEAKENG: string (nullable = true)\n",
            " |-- TRIBE: string (nullable = true)\n",
            " |-- TRIBED: string (nullable = true)\n",
            " |-- RACAMIND: string (nullable = true)\n",
            " |-- RACASIAN: string (nullable = true)\n",
            " |-- RACBLK: string (nullable = true)\n",
            " |-- RACPACIS: string (nullable = true)\n",
            " |-- RACWHT: string (nullable = true)\n",
            " |-- RACOTHER: string (nullable = true)\n",
            " |-- SCHOOL: string (nullable = true)\n",
            " |-- EDUC: string (nullable = true)\n",
            " |-- EDUCD: string (nullable = true)\n",
            " |-- GRADEATT: string (nullable = true)\n",
            " |-- GRADEATTD: string (nullable = true)\n",
            " |-- SCHLTYPE: string (nullable = true)\n",
            " |-- DEGFIELD: string (nullable = true)\n",
            " |-- DEGFIELDD: string (nullable = true)\n",
            " |-- DEGFIELD2: string (nullable = true)\n",
            " |-- DEGFIELD2D: string (nullable = true)\n",
            " |-- EMPSTAT: string (nullable = true)\n",
            " |-- EMPSTATD: string (nullable = true)\n",
            " |-- LABFORCE: string (nullable = true)\n",
            " |-- CLASSWKR: string (nullable = true)\n",
            " |-- CLASSWKRD: string (nullable = true)\n",
            " |-- OCC: string (nullable = true)\n",
            " |-- OCC2010: string (nullable = true)\n",
            " |-- OCCSOC: string (nullable = true)\n",
            " |-- IND: string (nullable = true)\n",
            " |-- WKSWORK2: string (nullable = true)\n",
            " |-- UHRSWORK: string (nullable = true)\n",
            " |-- LOOKING: string (nullable = true)\n",
            " |-- AVAILBLE: string (nullable = true)\n",
            " |-- WORKEDYR: string (nullable = true)\n",
            " |-- INCTOT: string (nullable = true)\n",
            " |-- FTOTINC: string (nullable = true)\n",
            " |-- income: string (nullable = true)\n",
            " |-- INCSS: string (nullable = true)\n",
            " |-- INCINVST: string (nullable = true)\n",
            " |-- INCRETIR: string (nullable = true)\n",
            " |-- INCSUPP: string (nullable = true)\n",
            " |-- INCOTHER: string (nullable = true)\n",
            " |-- INCEARN: string (nullable = true)\n",
            " |-- VETSTAT: string (nullable = true)\n",
            " |-- VETSTATD: string (nullable = true)\n",
            " |-- HHTYPE_NAME: string (nullable = true)\n",
            " |-- REGION_NAME: string (nullable = true)\n",
            " |-- city111: string (nullable = true)\n",
            " |-- MORTGAGE_NAME: string (nullable = true)\n",
            " |-- NFAMS_NAME: string (nullable = true)\n",
            " |-- NCOUPLES_NAME: string (nullable = true)\n",
            " |-- NMOTHERS_NAME: string (nullable = true)\n",
            " |-- NFATHERS_NAME: string (nullable = true)\n",
            " |-- MULTGEN_NAME: string (nullable = true)\n",
            " |-- MULTGEND_NAME: string (nullable = true)\n",
            " |-- CBNSUBFAM_NAME: string (nullable = true)\n",
            " |-- FAMUNIT_NAME: string (nullable = true)\n",
            " |-- FAMSIZE_NAME: string (nullable = true)\n",
            " |-- NCHILD_NAME: string (nullable = true)\n",
            " |-- NSIBS_NAME: string (nullable = true)\n",
            " |-- RELATE_NAME: string (nullable = true)\n",
            " |-- RELATED_NAME: string (nullable = true)\n",
            " |-- gender: string (nullable = true)\n",
            " |-- AGE_NAME: string (nullable = true)\n",
            " |-- MARST_NAME: string (nullable = true)\n",
            " |-- FERTYR_NAME: string (nullable = true)\n",
            " |-- RACE_NAME: string (nullable = true)\n",
            " |-- RACED_NAME: string (nullable = true)\n",
            " |-- BPL_NAME: string (nullable = true)\n",
            " |-- BPLD_NAME: string (nullable = true)\n",
            " |-- CITIZEN_NAME: string (nullable = true)\n",
            " |-- YRIMMIG_NAME: string (nullable = true)\n",
            " |-- LANGUAGE_NAME: string (nullable = true)\n",
            " |-- LANGUAGED_NAME: string (nullable = true)\n",
            " |-- SPEAKENG_NAME: string (nullable = true)\n",
            " |-- TRIBE_NAME: string (nullable = true)\n",
            " |-- TRIBED_NAME: string (nullable = true)\n",
            " |-- RACAMIND_NAME: string (nullable = true)\n",
            " |-- RACASIAN_NAME: string (nullable = true)\n",
            " |-- RACBLK_NAME: string (nullable = true)\n",
            " |-- RACPACIS_NAME: string (nullable = true)\n",
            " |-- RACWHT_NAME: string (nullable = true)\n",
            " |-- RACOTHER_NAME: string (nullable = true)\n",
            " |-- SCHOOL_NAME: string (nullable = true)\n",
            " |-- EDUC_NAME: string (nullable = true)\n",
            " |-- EDUCD_NAME: string (nullable = true)\n",
            " |-- GRADEATT_NAME: string (nullable = true)\n",
            " |-- GRADEATTD_NAME: string (nullable = true)\n",
            " |-- SCHLTYPE_NAME: string (nullable = true)\n",
            " |-- EMPSTAT_NAME: string (nullable = true)\n",
            " |-- EMPSTATD_NAME: string (nullable = true)\n",
            " |-- LABFORCE_NAME: string (nullable = true)\n",
            " |-- CLASSWKR_NAME: string (nullable = true)\n",
            " |-- CLASSWKRD_NAME: string (nullable = true)\n",
            " |-- occupation: string (nullable = true)\n",
            " |-- LOOKING_NAME: string (nullable = true)\n",
            " |-- AVAILBLE_NAME: string (nullable = true)\n",
            " |-- VETSTAT_NAME: string (nullable = true)\n",
            " |-- VETSTATD_NAME: string (nullable = true)\n",
            " |-- DEGFIELD_NAME: string (nullable = true)\n",
            " |-- FIPS: string (nullable = true)\n",
            "\n"
          ]
        }
      ]
    },
    {
      "cell_type": "code",
      "source": [
        "df = df.select(['YEAR','REGION','DENSITY','CNTRY','NCOUPLES','gender','AGE','EDUCD_NAME','occupation','DEGFIELD_NAME'])"
      ],
      "metadata": {
        "id": "Z0PCop1or0h4"
      },
      "execution_count": 8,
      "outputs": []
    },
    {
      "cell_type": "markdown",
      "source": [
        "## Metrics Computation"
      ],
      "metadata": {
        "id": "xgebDjHTRHgb"
      }
    },
    {
      "cell_type": "code",
      "source": [
        "from pydeequ.analyzers import AnalysisRunner, AnalyzerContext, ApproxCountDistinct, Completeness, Compliance, Mean, Size\n",
        "\n",
        "analysisResult = AnalysisRunner(spark) \\\n",
        "                    .onData(df) \\\n",
        "                    .addAnalyzer(Size()) \\\n",
        "                    .addAnalyzer(Completeness(\"AGE\")) \\\n",
        "                    .addAnalyzer(ApproxCountDistinct(\"AGE\")) \\\n",
        "                    .addAnalyzer(Mean(\"AGE\")) \\\n",
        "                    .addAnalyzer(Compliance(\"AGE\", \"AGE > 0\")) \\\n",
        "                    .run()\n",
        "                    \n",
        "analysisResult_df = AnalyzerContext.successMetricsAsDataFrame(spark, analysisResult)\n",
        "analysisResult_df.show()"
      ],
      "metadata": {
        "colab": {
          "base_uri": "https://localhost:8080/"
        },
        "id": "rDjMXnsjG1I7",
        "outputId": "82f63392-8d31-44c4-96bb-e8e2f1b71029"
      },
      "execution_count": 12,
      "outputs": [
        {
          "output_type": "stream",
          "name": "stdout",
          "text": [
            "+-------+--------+-------------------+--------+\n",
            "| entity|instance|               name|   value|\n",
            "+-------+--------+-------------------+--------+\n",
            "| Column|     AGE|         Compliance|     1.0|\n",
            "|Dataset|       *|               Size|483568.0|\n",
            "| Column|     AGE|       Completeness|     1.0|\n",
            "| Column|     AGE|ApproxCountDistinct|    85.0|\n",
            "+-------+--------+-------------------+--------+\n",
            "\n"
          ]
        }
      ]
    },
    {
      "cell_type": "code",
      "source": [
        "from pydeequ.profiles import ColumnProfilerRunner\n",
        "\n",
        "result = ColumnProfilerRunner(spark) \\\n",
        "            .onData(df) \\\n",
        "            .run()"
      ],
      "metadata": {
        "id": "aymPbm_bQIgp"
      },
      "execution_count": 13,
      "outputs": []
    },
    {
      "cell_type": "code",
      "source": [
        "for col, profile in result.profiles.items():\n",
        "    print(f'Column \\'{col}\\'')\n",
        "    print('\\t',f'completeness: {profile.completeness}')\n",
        "    print('\\t',f'approximate number of distinct values: {profile.approximateNumDistinctValues}')\n",
        "    print('\\t',f'datatype: {profile.dataType}')"
      ],
      "metadata": {
        "colab": {
          "base_uri": "https://localhost:8080/"
        },
        "id": "cPa6kxIlipMS",
        "outputId": "7c1a3db2-d915-4e5f-d06e-13664b90831d"
      },
      "execution_count": 14,
      "outputs": [
        {
          "output_type": "stream",
          "name": "stdout",
          "text": [
            "Column 'CNTRY'\n",
            "\t completeness: 1.0\n",
            "\t approximate number of distinct values: 1\n",
            "\t datatype: Integral\n",
            "Column 'DENSITY'\n",
            "\t completeness: 1.0\n",
            "\t approximate number of distinct values: 3784\n",
            "\t datatype: Fractional\n",
            "Column 'AGE'\n",
            "\t completeness: 1.0\n",
            "\t approximate number of distinct values: 85\n",
            "\t datatype: Integral\n",
            "Column 'YEAR'\n",
            "\t completeness: 1.0\n",
            "\t approximate number of distinct values: 9\n",
            "\t datatype: Integral\n",
            "Column 'REGION'\n",
            "\t completeness: 1.0\n",
            "\t approximate number of distinct values: 9\n",
            "\t datatype: Fractional\n",
            "Column 'NCOUPLES'\n",
            "\t completeness: 1.0\n",
            "\t approximate number of distinct values: 6\n",
            "\t datatype: Integral\n",
            "Column 'DEGFIELD_NAME'\n",
            "\t completeness: 1.0\n",
            "\t approximate number of distinct values: 38\n",
            "\t datatype: String\n",
            "Column 'occupation'\n",
            "\t completeness: 1.0\n",
            "\t approximate number of distinct values: 479\n",
            "\t datatype: String\n",
            "Column 'EDUCD_NAME'\n",
            "\t completeness: 1.0\n",
            "\t approximate number of distinct values: 25\n",
            "\t datatype: String\n",
            "Column 'gender'\n",
            "\t completeness: 1.0\n",
            "\t approximate number of distinct values: 2\n",
            "\t datatype: String\n"
          ]
        }
      ]
    },
    {
      "cell_type": "markdown",
      "source": [
        "## Constraint Suggestion"
      ],
      "metadata": {
        "id": "7ixpIImKRP68"
      }
    },
    {
      "cell_type": "code",
      "source": [
        "from pydeequ.suggestions import ConstraintSuggestionRunner, DEFAULT\n",
        "\n",
        "suggestionResult = ConstraintSuggestionRunner(spark) \\\n",
        "             .onData(df) \\\n",
        "             .addConstraintRule(DEFAULT()) \\\n",
        "             .run()"
      ],
      "metadata": {
        "id": "CB2t40IWDWhr"
      },
      "execution_count": 15,
      "outputs": []
    },
    {
      "cell_type": "code",
      "source": [
        "for sugg in suggestionResult['constraint_suggestions']:\n",
        "    print(f\"Constraint suggestion for \\'{sugg['column_name']}\\': {sugg['description']}\")\n",
        "    print(f\"The corresponding Python code is: {sugg['code_for_constraint']}\\n\")"
      ],
      "metadata": {
        "colab": {
          "base_uri": "https://localhost:8080/"
        },
        "id": "rNMDZ7H6DyG8",
        "outputId": "68104bd6-8bb8-49e3-ed16-cf5d0806064f"
      },
      "execution_count": 16,
      "outputs": [
        {
          "output_type": "stream",
          "name": "stdout",
          "text": [
            "Constraint suggestion for 'CNTRY': 'CNTRY' has value range '840'\n",
            "The corresponding Python code is: .isContainedIn(\"CNTRY\", [\"840\"])\n",
            "\n",
            "Constraint suggestion for 'CNTRY': 'CNTRY' is not null\n",
            "The corresponding Python code is: .isComplete(\"CNTRY\")\n",
            "\n",
            "Constraint suggestion for 'CNTRY': 'CNTRY' has no negative values\n",
            "The corresponding Python code is: .isNonNegative(\"CNTRY\")\n",
            "\n",
            "Constraint suggestion for 'CNTRY': 'CNTRY' has type Integral\n",
            "The corresponding Python code is: .hasDataType(\"CNTRY\", ConstrainableDataTypes.Integral)\n",
            "\n",
            "Constraint suggestion for 'DENSITY': 'DENSITY' is not null\n",
            "The corresponding Python code is: .isComplete(\"DENSITY\")\n",
            "\n",
            "Constraint suggestion for 'DENSITY': 'DENSITY' has no negative values\n",
            "The corresponding Python code is: .isNonNegative(\"DENSITY\")\n",
            "\n",
            "Constraint suggestion for 'DENSITY': 'DENSITY' has type Fractional\n",
            "The corresponding Python code is: .hasDataType(\"DENSITY\", ConstrainableDataTypes.Fractional)\n",
            "\n",
            "Constraint suggestion for 'AGE': 'AGE' has value range '20', '19', '21', '22', '18', '23', '50', '24', '25', '30', '26', '40', '55', '52', '27', '54', '28', '35', '53', '45', '48', '49', '29', '56', '51', '32', '57', '47', '58', '33', '44', '31', '46', '42', '59', '60', '34', '43', '36', '38', '37', '41', '39', '61', '62', '63', '64', '17', '65', '16', '66', '67', '68', '69', '70', '71', '72', '73', '74', '75', '76', '77', '78', '79', '80', '81', '82', '83', '84', '85', '86', '87', '94', '88', '89', '93', '90', '92', '95', '91', '96'\n",
            "The corresponding Python code is: .isContainedIn(\"AGE\", [\"20\", \"19\", \"21\", \"22\", \"18\", \"23\", \"50\", \"24\", \"25\", \"30\", \"26\", \"40\", \"55\", \"52\", \"27\", \"54\", \"28\", \"35\", \"53\", \"45\", \"48\", \"49\", \"29\", \"56\", \"51\", \"32\", \"57\", \"47\", \"58\", \"33\", \"44\", \"31\", \"46\", \"42\", \"59\", \"60\", \"34\", \"43\", \"36\", \"38\", \"37\", \"41\", \"39\", \"61\", \"62\", \"63\", \"64\", \"17\", \"65\", \"16\", \"66\", \"67\", \"68\", \"69\", \"70\", \"71\", \"72\", \"73\", \"74\", \"75\", \"76\", \"77\", \"78\", \"79\", \"80\", \"81\", \"82\", \"83\", \"84\", \"85\", \"86\", \"87\", \"94\", \"88\", \"89\", \"93\", \"90\", \"92\", \"95\", \"91\", \"96\"])\n",
            "\n",
            "Constraint suggestion for 'AGE': 'AGE' is not null\n",
            "The corresponding Python code is: .isComplete(\"AGE\")\n",
            "\n",
            "Constraint suggestion for 'AGE': 'AGE' has value range '20', '19', '21', '22', '18', '23', '50', '24', '25', '30', '26', '40', '55', '52', '27', '54', '28', '35', '53', '45', '48', '49', '29', '56', '51', '32', '57', '47', '58', '33', '44', '31', '46', '42', '59', '60', '34', '43', '36', '38', '37', '41', '39', '61', '62', '63', '64', '17' for at least 90.0% of values\n",
            "The corresponding Python code is: .isContainedIn(\"AGE\", [\"20\", \"19\", \"21\", \"22\", \"18\", \"23\", \"50\", \"24\", \"25\", \"30\", \"26\", \"40\", \"55\", \"52\", \"27\", \"54\", \"28\", \"35\", \"53\", \"45\", \"48\", \"49\", \"29\", \"56\", \"51\", \"32\", \"57\", \"47\", \"58\", \"33\", \"44\", \"31\", \"46\", \"42\", \"59\", \"60\", \"34\", \"43\", \"36\", \"38\", \"37\", \"41\", \"39\", \"61\", \"62\", \"63\", \"64\", \"17\"], lambda x: x >= 0.9, \"It should be above 0.9!\")\n",
            "\n",
            "Constraint suggestion for 'AGE': 'AGE' has no negative values\n",
            "The corresponding Python code is: .isNonNegative(\"AGE\")\n",
            "\n",
            "Constraint suggestion for 'AGE': 'AGE' has type Integral\n",
            "The corresponding Python code is: .hasDataType(\"AGE\", ConstrainableDataTypes.Integral)\n",
            "\n",
            "Constraint suggestion for 'YEAR': 'YEAR' has value range '2019', '2018', '2017', '2016', '2015', '2014', '2013', '2012', '2011'\n",
            "The corresponding Python code is: .isContainedIn(\"YEAR\", [\"2019\", \"2018\", \"2017\", \"2016\", \"2015\", \"2014\", \"2013\", \"2012\", \"2011\"])\n",
            "\n",
            "Constraint suggestion for 'YEAR': 'YEAR' is not null\n",
            "The corresponding Python code is: .isComplete(\"YEAR\")\n",
            "\n",
            "Constraint suggestion for 'YEAR': 'YEAR' has value range '2019', '2018', '2017', '2016', '2015', '2014', '2013', '2012' for at least 92.0% of values\n",
            "The corresponding Python code is: .isContainedIn(\"YEAR\", [\"2019\", \"2018\", \"2017\", \"2016\", \"2015\", \"2014\", \"2013\", \"2012\"], lambda x: x >= 0.92, \"It should be above 0.92!\")\n",
            "\n",
            "Constraint suggestion for 'YEAR': 'YEAR' has no negative values\n",
            "The corresponding Python code is: .isNonNegative(\"YEAR\")\n",
            "\n",
            "Constraint suggestion for 'YEAR': 'YEAR' has type Integral\n",
            "The corresponding Python code is: .hasDataType(\"YEAR\", ConstrainableDataTypes.Integral)\n",
            "\n",
            "Constraint suggestion for 'REGION': 'REGION' is not null\n",
            "The corresponding Python code is: .isComplete(\"REGION\")\n",
            "\n",
            "Constraint suggestion for 'REGION': 'REGION' has no negative values\n",
            "The corresponding Python code is: .isNonNegative(\"REGION\")\n",
            "\n",
            "Constraint suggestion for 'REGION': 'REGION' has type Fractional\n",
            "The corresponding Python code is: .hasDataType(\"REGION\", ConstrainableDataTypes.Fractional)\n",
            "\n",
            "Constraint suggestion for 'NCOUPLES': 'NCOUPLES' has value range '1', '0', '2', '3', '4', '5'\n",
            "The corresponding Python code is: .isContainedIn(\"NCOUPLES\", [\"1\", \"0\", \"2\", \"3\", \"4\", \"5\"])\n",
            "\n",
            "Constraint suggestion for 'NCOUPLES': 'NCOUPLES' is not null\n",
            "The corresponding Python code is: .isComplete(\"NCOUPLES\")\n",
            "\n",
            "Constraint suggestion for 'NCOUPLES': 'NCOUPLES' has value range '1', '0' for at least 98.0% of values\n",
            "The corresponding Python code is: .isContainedIn(\"NCOUPLES\", [\"1\", \"0\"], lambda x: x >= 0.98, \"It should be above 0.98!\")\n",
            "\n",
            "Constraint suggestion for 'NCOUPLES': 'NCOUPLES' has no negative values\n",
            "The corresponding Python code is: .isNonNegative(\"NCOUPLES\")\n",
            "\n",
            "Constraint suggestion for 'NCOUPLES': 'NCOUPLES' has type Integral\n",
            "The corresponding Python code is: .hasDataType(\"NCOUPLES\", ConstrainableDataTypes.Integral)\n",
            "\n",
            "Constraint suggestion for 'DEGFIELD_NAME': 'DEGFIELD_NAME' has value range 'Unknown', 'Business', 'Education Administration and Teaching', 'Engineering', 'Social Sciences', 'Medical and Health Sciences and Services', 'Psychology', 'Fine Arts', 'Biology and Life Sciences', 'Communications', 'Computer and Information Sciences', 'Physical Sciences', 'English Language, Literature, and Composition', 'History', 'Criminal Justice and Fire Protection', 'Liberal Arts and Humanities', 'Mathematics and Statistics', 'Public Affairs, Policy, and Social Work', 'Agriculture', 'Linguistics and Foreign Languages', 'Physical Fitness, Parks, Recreation, and Leisure', 'Family and Consumer Sciences', 'Philosophy and Religious Studies', 'Theology and Religious Vocations', 'Engineering Technologies', 'Architecture', 'Interdisciplinary and Multi-Disciplinary Studies (General)', 'Environment and Natural Resources', 'Area, Ethnic, and Civilization Studies', 'Transportation Sciences and Technologies', 'Law', 'Construction Services', 'Communication Technologies', 'Cosmetology Services and Culinary Arts', 'Electrical and Mechanic Repairs and Technologies', 'Library Science', 'Military Technologies', 'Nuclear, Industrial Radiology, and Biological Technologies'\n",
            "The corresponding Python code is: .isContainedIn(\"DEGFIELD_NAME\", [\"Unknown\", \"Business\", \"Education Administration and Teaching\", \"Engineering\", \"Social Sciences\", \"Medical and Health Sciences and Services\", \"Psychology\", \"Fine Arts\", \"Biology and Life Sciences\", \"Communications\", \"Computer and Information Sciences\", \"Physical Sciences\", \"English Language, Literature, and Composition\", \"History\", \"Criminal Justice and Fire Protection\", \"Liberal Arts and Humanities\", \"Mathematics and Statistics\", \"Public Affairs, Policy, and Social Work\", \"Agriculture\", \"Linguistics and Foreign Languages\", \"Physical Fitness, Parks, Recreation, and Leisure\", \"Family and Consumer Sciences\", \"Philosophy and Religious Studies\", \"Theology and Religious Vocations\", \"Engineering Technologies\", \"Architecture\", \"Interdisciplinary and Multi-Disciplinary Studies (General]\", \"Environment and Natural Resources\", \"Area, Ethnic, and Civilization Studies\", \"Transportation Sciences and Technologies\", \"Law\", \"Construction Services\", \"Communication Technologies\", \"Cosmetology Services and Culinary Arts\", \"Electrical and Mechanic Repairs and Technologies\", \"Library Science\", \"Military Technologies\", \"Nuclear, Industrial Radiology, and Biological Technologies\"))\n",
            "\n",
            "Constraint suggestion for 'DEGFIELD_NAME': 'DEGFIELD_NAME' is not null\n",
            "The corresponding Python code is: .isComplete(\"DEGFIELD_NAME\")\n",
            "\n",
            "Constraint suggestion for 'DEGFIELD_NAME': 'DEGFIELD_NAME' has value range 'Unknown', 'Business', 'Education Administration and Teaching', 'Engineering', 'Social Sciences', 'Medical and Health Sciences and Services', 'Psychology', 'Fine Arts' for at least 91.0% of values\n",
            "The corresponding Python code is: .isContainedIn(\"DEGFIELD_NAME\", [\"Unknown\", \"Business\", \"Education Administration and Teaching\", \"Engineering\", \"Social Sciences\", \"Medical and Health Sciences and Services\", \"Psychology\", \"Fine Arts\"], lambda x: x >= 0.91, \"It should be above 0.91!\")\n",
            "\n",
            "Constraint suggestion for 'occupation': 'occupation' is not null\n",
            "The corresponding Python code is: .isComplete(\"occupation\")\n",
            "\n",
            "Constraint suggestion for 'EDUCD_NAME': 'EDUCD_NAME' has value range 'Regular high school diploma', 'Bachelor''s degree', '1 or more years of college credit, no degree', 'Some college, but less than 1 year', 'Associate''s degree, type not specified', 'Master''s degree', 'GED or alternative credential', 'Grade 11', '12th grade, no diploma', 'Grade 10', 'No schooling completed', 'Professional degree beyond a bachelor''s degree', 'Grade 9', 'Grade 8', 'Doctoral degree', 'Grade 6', 'Grade 7', 'Grade 5', 'Grade 3', 'Grade 4', 'Grade 2', 'Nursery school, preschool', 'Grade 1', 'Kindergarten'\n",
            "The corresponding Python code is: .isContainedIn(\"EDUCD_NAME\", [\"Regular high school diploma\", \"Bachelor's degree\", \"1 or more years of college credit, no degree\", \"Some college, but less than 1 year\", \"Associate's degree, type not specified\", \"Master's degree\", \"GED or alternative credential\", \"Grade 11\", \"12th grade, no diploma\", \"Grade 10\", \"No schooling completed\", \"Professional degree beyond a bachelor's degree\", \"Grade 9\", \"Grade 8\", \"Doctoral degree\", \"Grade 6\", \"Grade 7\", \"Grade 5\", \"Grade 3\", \"Grade 4\", \"Grade 2\", \"Nursery school, preschool\", \"Grade 1\", \"Kindergarten\"])\n",
            "\n",
            "Constraint suggestion for 'EDUCD_NAME': 'EDUCD_NAME' is not null\n",
            "The corresponding Python code is: .isComplete(\"EDUCD_NAME\")\n",
            "\n",
            "Constraint suggestion for 'EDUCD_NAME': 'EDUCD_NAME' has value range 'Regular high school diploma', 'Bachelor''s degree', '1 or more years of college credit, no degree', 'Some college, but less than 1 year', 'Associate''s degree, type not specified', 'Master''s degree', 'GED or alternative credential', 'Grade 11', '12th grade, no diploma', 'Grade 10' for at least 91.0% of values\n",
            "The corresponding Python code is: .isContainedIn(\"EDUCD_NAME\", [\"Regular high school diploma\", \"Bachelor's degree\", \"1 or more years of college credit, no degree\", \"Some college, but less than 1 year\", \"Associate's degree, type not specified\", \"Master's degree\", \"GED or alternative credential\", \"Grade 11\", \"12th grade, no diploma\", \"Grade 10\"], lambda x: x >= 0.91, \"It should be above 0.91!\")\n",
            "\n",
            "Constraint suggestion for 'gender': 'gender' has value range 'Male', 'Female'\n",
            "The corresponding Python code is: .isContainedIn(\"gender\", [\"Male\", \"Female\"])\n",
            "\n",
            "Constraint suggestion for 'gender': 'gender' is not null\n",
            "The corresponding Python code is: .isComplete(\"gender\")\n",
            "\n"
          ]
        }
      ]
    },
    {
      "cell_type": "markdown",
      "source": [
        "## Constraint Verification"
      ],
      "metadata": {
        "id": "5YZChPdoZVKM"
      }
    },
    {
      "cell_type": "code",
      "source": [
        "from pydeequ.checks import Check, CheckLevel, ConstrainableDataTypes\n",
        "from pydeequ.verification import VerificationResult, VerificationSuite\n",
        "\n",
        "check = Check(spark, CheckLevel.Warning, \"Review Check\")\n",
        "\n",
        "checkResult = VerificationSuite(spark) \\\n",
        "    .onData(df) \\\n",
        "    .addCheck(\n",
        "        check.hasDataType(\"AGE\", ConstrainableDataTypes.Integral) \\\n",
        "        .hasMin(\"AGE\", lambda x: x == 0) \\\n",
        "        .isNonNegative(\"AGE\") \\\n",
        "        .isComplete(\"AGE\") \\\n",
        "     ) \\\n",
        "    .run()\n",
        "\n",
        "checkResult_df = VerificationResult.checkResultsAsDataFrame(spark, checkResult)\n",
        "checkResult_df.show(truncate=False)"
      ],
      "metadata": {
        "colab": {
          "base_uri": "https://localhost:8080/"
        },
        "id": "olWxCj5fl1m7",
        "outputId": "ff940d4a-ba1b-4b6f-c869-1c0197d09b5d"
      },
      "execution_count": 22,
      "outputs": [
        {
          "output_type": "stream",
          "name": "stdout",
          "text": [
            "+------------+-----------+------------+----------------------------------------------------------------------------------------------------------+-----------------+---------------------------------------------------------------------------------------------------------------------------------------------------------------------------------------+\n",
            "|check       |check_level|check_status|constraint                                                                                                |constraint_status|constraint_message                                                                                                                                                                     |\n",
            "+------------+-----------+------------+----------------------------------------------------------------------------------------------------------+-----------------+---------------------------------------------------------------------------------------------------------------------------------------------------------------------------------------+\n",
            "|Review Check|Warning    |Warning     |AnalysisBasedConstraint(DataType(AGE,None),<function1>,Some(<function1>),None)                            |Success          |                                                                                                                                                                                       |\n",
            "|Review Check|Warning    |Warning     |MinimumConstraint(Minimum(AGE,None))                                                                      |Failure          |Expected type of column AGE to be one of (LongType,IntegerType,org.apache.spark.sql.types.DecimalType$@1c526f74,DoubleType,ByteType,FloatType,ShortType), but found StringType instead!|\n",
            "|Review Check|Warning    |Warning     |ComplianceConstraint(Compliance(AGE is non-negative,COALESCE(CAST(AGE AS DECIMAL(20,10)), 0.0) >= 0,None))|Success          |                                                                                                                                                                                       |\n",
            "|Review Check|Warning    |Warning     |CompletenessConstraint(Completeness(AGE,None))                                                            |Success          |                                                                                                                                                                                       |\n",
            "+------------+-----------+------------+----------------------------------------------------------------------------------------------------------+-----------------+---------------------------------------------------------------------------------------------------------------------------------------------------------------------------------------+\n",
            "\n"
          ]
        }
      ]
    },
    {
      "cell_type": "markdown",
      "source": [
        "## Repository"
      ],
      "metadata": {
        "id": "xwx2RDvAaNZc"
      }
    },
    {
      "cell_type": "code",
      "source": [
        "from pydeequ.repository import FileSystemMetricsRepository, ResultKey\n",
        "from pydeequ.analyzers import AnalysisRunner, ApproxCountDistinct\n",
        "\n",
        "metrics_file = FileSystemMetricsRepository.helper_metrics_file(spark, 'metrics.json')\n",
        "repository = FileSystemMetricsRepository(spark, metrics_file)\n",
        "key_tags = {'tag': 'Age'}\n",
        "resultKey = ResultKey(spark, ResultKey.current_milli_time(), key_tags)\n",
        "\n",
        "analysisResult = AnalysisRunner(spark) \\\n",
        "    .onData(df) \\\n",
        "    .addAnalyzer(ApproxCountDistinct('AGE')) \\\n",
        "    .useRepository(repository) \\\n",
        "    .saveOrAppendResult(resultKey) \\\n",
        "    .run()"
      ],
      "metadata": {
        "id": "I0Smz0hyaRZg"
      },
      "execution_count": 18,
      "outputs": []
    },
    {
      "cell_type": "code",
      "source": [
        "resultKey2 = ResultKey(spark, ResultKey.current_milli_time(), key_tags)"
      ],
      "metadata": {
        "id": "Ucus-Kuwl5oR"
      },
      "execution_count": 19,
      "outputs": []
    },
    {
      "cell_type": "code",
      "source": [
        "AnalysisRunner(spark) \\\n",
        "    .onData(df) \\\n",
        "    .addAnalyzer(ApproxCountDistinct('AGE')) \\\n",
        "    .useRepository(repository) \\\n",
        "    .saveOrAppendResult(resultKey2) \\\n",
        "    .run()"
      ],
      "metadata": {
        "colab": {
          "base_uri": "https://localhost:8080/"
        },
        "id": "nCj5OzrLldWH",
        "outputId": "7407c599-9d89-41f5-ecfb-ac9e4a4e18ad"
      },
      "execution_count": 20,
      "outputs": [
        {
          "output_type": "execute_result",
          "data": {
            "text/plain": [
              "JavaObject id=o517"
            ]
          },
          "metadata": {},
          "execution_count": 20
        }
      ]
    },
    {
      "cell_type": "code",
      "source": [
        "analysisResult_metRep = repository.load() \\\n",
        "                            .before(ResultKey.current_milli_time()) \\\n",
        "                            .getSuccessMetricsAsDataFrame()\n",
        "\n",
        "analysisResult_metRep.show()"
      ],
      "metadata": {
        "colab": {
          "base_uri": "https://localhost:8080/"
        },
        "id": "rFh21ADxaY99",
        "outputId": "af780d6e-a35e-4234-fc7e-a4ed38a95e46"
      },
      "execution_count": 21,
      "outputs": [
        {
          "output_type": "stream",
          "name": "stdout",
          "text": [
            "+------+--------+-------------------+-----+-------------+---+\n",
            "|entity|instance|               name|value| dataset_date|tag|\n",
            "+------+--------+-------------------+-----+-------------+---+\n",
            "|Column|     AGE|ApproxCountDistinct| 85.0|1651284773492|Age|\n",
            "|Column|     AGE|ApproxCountDistinct| 85.0|1651284778783|Age|\n",
            "+------+--------+-------------------+-----+-------------+---+\n",
            "\n"
          ]
        }
      ]
    }
  ]
}